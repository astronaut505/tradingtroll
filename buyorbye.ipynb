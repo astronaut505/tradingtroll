{
 "cells": [
  {
   "cell_type": "code",
   "execution_count": null,
   "metadata": {},
   "outputs": [],
   "source": [
    "# Import necessary libraries\n",
    "import pandas as pd\n",
    "import numpy as np\n",
    "import datetime, pytz\n",
    "import matplotlib.pyplot as plt\n",
    "import yfinance as yf\n",
    "from sklearn.model_selection import train_test_split\n",
    "from sklearn.ensemble import RandomForestClassifier\n",
    "from xgboost import XGBClassifier\n",
    "from sklearn.metrics import accuracy_score\n"
   ]
  },
  {
   "cell_type": "code",
   "execution_count": null,
   "metadata": {},
   "outputs": [],
   "source": [
    "# Load NVIDIA stock data from Yahoo Finance\n",
    "nvidia = yf.download('NVDA', start='2018-01-01', end='2024-01-01', interval='1d')\n",
    "nvidia.head()\n"
   ]
  },
  {
   "cell_type": "code",
   "execution_count": null,
   "metadata": {},
   "outputs": [],
   "source": [
    "# Define technical indicator functions\n",
    "def moving_average(df, window):\n",
    "    return df['Close'].rolling(window=window).mean()\n",
    "\n",
    "def exponential_moving_average(df, window):\n",
    "    return df['Close'].ewm(span=window, adjust=False).mean()\n",
    "\n",
    "def momentum(df, window):\n",
    "    return df['Close'].diff(window)\n",
    "\n",
    "def rsi(df, window):\n",
    "    delta = df['Close'].diff()\n",
    "    gain = delta.where(delta > 0, 0)\n",
    "    loss = -delta.where(delta < 0, 0)\n",
    "    avg_gain = gain.rolling(window=window, min_periods=1).mean()\n",
    "    avg_loss = loss.rolling(window=window, min_periods=1).mean()\n",
    "    rs = avg_gain / avg_loss\n",
    "    return 100 - (100 / (1 + rs))\n",
    "\n",
    "# Calculate technical indicators\n",
    "nvidia['SMA10'] = moving_average(nvidia, 10)\n",
    "nvidia['SMA60'] = moving_average(nvidia, 60)\n",
    "nvidia['EMA10'] = exponential_moving_average(nvidia, 10)\n",
    "nvidia['Momentum'] = momentum(nvidia, 10)\n",
    "nvidia['RSI'] = rsi(nvidia, 14)\n",
    "\n",
    "# Drop NaN values\n",
    "nvidia.dropna(inplace=True)\n",
    "nvidia.head()\n"
   ]
  },
  {
   "cell_type": "code",
   "execution_count": null,
   "metadata": {},
   "outputs": [],
   "source": [
    "# Generate signals\n",
    "nvidia['signal'] = 0\n",
    "nvidia['signal'][10:] = np.where(nvidia['SMA10'][10:] > nvidia['SMA60'][10:], 1, 0)\n",
    "nvidia['positions'] = nvidia['signal'].diff()\n",
    "\n",
    "# Visualize signals\n",
    "plt.figure(figsize=(12, 6))\n",
    "plt.plot(nvidia['Close'], label='Close Price')\n",
    "plt.plot(nvidia['SMA10'], label='SMA10')\n",
    "plt.plot(nvidia['SMA60'], label='SMA60')\n",
    "plt.plot(nvidia[nvidia['positions'] == 1].index, nvidia['SMA10'][nvidia['positions'] == 1], '^', markersize=10, color='g', label='Buy Signal')\n",
    "plt.plot(nvidia[nvidia['positions'] == -1].index, nvidia['SMA10'][nvidia['positions'] == -1], 'v', markersize=10, color='r', label='Sell Signal')\n",
    "plt.title('NVIDIA Close Price and Buy/Sell Signals')\n",
    "plt.legend()\n",
    "plt.show()\n"
   ]
  },
  {
   "cell_type": "code",
   "execution_count": null,
   "metadata": {},
   "outputs": [],
   "source": [
    "# Split the data into training and testing sets\n",
    "train_size = int(len(nvidia) * 0.8)\n",
    "train_df = nvidia[:train_size]\n",
    "test_df = nvidia[train_size:]\n",
    "\n",
    "# Features and target variable\n",
    "X_train = train_df[['SMA10', 'SMA60', 'EMA10', 'Momentum', 'RSI']]\n",
    "y_train = train_df['signal']\n",
    "X_test = test_df[['SMA10', 'SMA60', 'EMA10', 'Momentum', 'RSI']]\n",
    "y_test = test_df['signal']\n"
   ]
  },
  {
   "cell_type": "code",
   "execution_count": null,
   "metadata": {},
   "outputs": [],
   "source": [
    "# Train RandomForestClassifier\n",
    "rf_model = RandomForestClassifier(n_estimators=25)\n",
    "rf_model.fit(X_train, y_train)\n",
    "rf_predictions = rf_model.predict(X_test)\n",
    "\n",
    "# Train XGBClassifier\n",
    "xgb_model = XGBClassifier(n_estimators=25, eval_metric='logloss')\n",
    "xgb_model.fit(X_train, y_train)\n",
    "xgb_predictions = xgb_model.predict(X_test)\n",
    "\n",
    "# Add predictions to the test dataframe\n",
    "test_df['rf_signal'] = rf_predictions\n",
    "test_df['xgb_signal'] = xgb_predictions\n"
   ]
  },
  {
   "cell_type": "code",
   "execution_count": null,
   "metadata": {},
   "outputs": [],
   "source": [
    "# Function to calculate returns and Sharpe ratio\n",
    "def calculate_performance(df, signal_col):\n",
    "    df['returns'] = df['Close'].pct_change()\n",
    "    df['strategy_returns'] = df[signal_col].shift(1) * df['returns']\n",
    "    cumulative_returns = df['strategy_returns'].cumsum()\n",
    "\n",
    "    sharpe_ratio = (df['strategy_returns'].mean() / df['strategy_returns'].std()) * np.sqrt(252)\n",
    "\n",
    "    annualized_return = df['strategy_returns'].mean() * 252\n",
    "    annualized_volatility = df['strategy_returns'].std() * np.sqrt(252)\n",
    "    annualized_sharpe_ratio = annualized_return / annualized_volatility\n",
    "\n",
    "    return cumulative_returns, sharpe_ratio, annualized_sharpe_ratio\n",
    "\n",
    "# Calculate performance for RandomForest strategy\n",
    "rf_cumulative_returns, rf_sharpe_ratio, rf_annualized_sharpe_ratio = calculate_performance(test_df, 'rf_signal')\n",
    "\n",
    "# Calculate performance for XGBoost strategy\n",
    "xgb_cumulative_returns, xgb_sharpe_ratio, xgb_annualized_sharpe_ratio = calculate_performance(test_df, 'xgb_signal')\n",
    "\n",
    "# Print performance metrics\n",
    "print(f\"RandomForest Sharpe Ratio: {rf_sharpe_ratio:.2f}\")\n",
    "print(f\"RandomForest Annualized Sharpe Ratio: {rf_annualized_sharpe_ratio:.2f}\")\n",
    "print(f\"XGBoost Sharpe Ratio: {xgb_sharpe_ratio:.2f}\")\n",
    "print(f\"XGBoost Annualized Sharpe Ratio: {xgb_annualized_sharpe_ratio:.2f}\")\n",
    "\n",
    "# Plot cumulative returns\n",
    "plt.figure(figsize=(12, 6))\n",
    "plt.plot(rf_cumulative_returns, label='RandomForest Cumulative Returns')\n",
    "plt.plot(xgb_cumulative_returns, label='XGBoost Cumulative Returns')\n",
    "plt.title('Cumulative Returns of Trading Strategies')\n",
    "plt.legend()\n",
    "plt.show()\n"
   ]
  }
 ],
 "metadata": {
  "kernelspec": {
   "display_name": "venv",
   "language": "python",
   "name": "python3"
  },
  "language_info": {
   "codemirror_mode": {
    "name": "ipython",
    "version": 3
   },
   "file_extension": ".py",
   "mimetype": "text/x-python",
   "name": "python",
   "nbconvert_exporter": "python",
   "pygments_lexer": "ipython3",
   "version": "3.11.9"
  }
 },
 "nbformat": 4,
 "nbformat_minor": 2
}
